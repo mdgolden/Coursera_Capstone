{
    "nbformat_minor": 2, 
    "cells": [
        {
            "source": "<b>Kaela Coffee Company<br>\nCoursera Capstone<br>\nMichael Golden</b>", 
            "cell_type": "markdown", 
            "metadata": {}
        }, 
        {
            "source": "<b>Kaela Coffee Company</b>", 
            "cell_type": "markdown", 
            "metadata": {}
        }, 
        {
            "source": "Established in 2008, Kaela Coffee Company (KCC) is a locally-owned coffee shop located in Miami, Florida. KCC primarily sells iced-coffees and an assortment of baked goods. Annual sales continue to increase year-over-year, and profits continue to set new record highs. After discussion with board memembers on the topic of increasing sales and profits, a market development strategy was selected with the goal of expanding one new location outside of the southern Florida location. After further discussion and analysis, San Francisco, California was selected as the target location to open a retail location, duplicating the operating model of the Miami KCC operation.", 
            "cell_type": "markdown", 
            "metadata": {}
        }, 
        {
            "source": "Before moving forward with development plans in San Francisco, and in an effort to make a good strategic decision on the new location, the board members are requesting an analysis report. The company requests an analysis of retail venues currently operating in San Francisco. Additionally, the company is requesting details on primary competitors in the San Francisco area. Finally, board members also request an official recommedation on which neighborhood to introduce the new retail location in. The goal opening date for the new retail location is May 2020.", 
            "cell_type": "markdown", 
            "metadata": {}
        }, 
        {
            "source": "<b>Description of the Data</b>", 
            "cell_type": "markdown", 
            "metadata": {}
        }, 
        {
            "source": "Analysis and research will be conducted with Foursquare loacation and venue data. This data set will be vital to highlight the current retail operations in the San Francisco locations under consideration. Foursquare is a technology company that uses location intelligence to build meaningful consumer experiences and business solutions.", 
            "cell_type": "markdown", 
            "metadata": {}
        }
    ], 
    "metadata": {
        "kernelspec": {
            "display_name": "Python 3.5", 
            "name": "python3", 
            "language": "python"
        }, 
        "language_info": {
            "mimetype": "text/x-python", 
            "nbconvert_exporter": "python", 
            "version": "3.5.5", 
            "name": "python", 
            "file_extension": ".py", 
            "pygments_lexer": "ipython3", 
            "codemirror_mode": {
                "version": 3, 
                "name": "ipython"
            }
        }
    }, 
    "nbformat": 4
}