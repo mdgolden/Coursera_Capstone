{
    "nbformat_minor": 2, 
    "cells": [
        {
            "source": "<b>Introduction to the Issue<br>\nCoursera Capstone<br>\nMichael Golden</b>", 
            "cell_type": "markdown", 
            "metadata": {}
        }, 
        {
            "source": "<b>Homelessness and Crime in San Francisco</b>", 
            "cell_type": "markdown", 
            "metadata": {}
        }, 
        {
            "source": "San Francisco California is home to some of the most expensive areas to live in the United States. Over the past decade, the area has experienced rapid growth in both population and economic expansion. This growth can largely be attributed to the success of tech companies that now call San Francisco home. However, a consequence of this growth is the displacement of native residents - as rents, property, and other cost of living factors increase significantly. This issue is compounded by restrictions on new housing development and presents an environment of an extreme shortage of affordable housing.", 
            "cell_type": "markdown", 
            "metadata": {}
        }, 
        {
            "source": "Along with the increase in homelessness, San Francisco also faces a sharp rise in substance abuse. In many cases, these two issues are related. It is now unfortunately common to see homeless individuals using various narcotics out in the open in public spaces. There are countless reports of this phenomenon, many of which can easily be found on video sharing platforms, such as YouTube. The city Health Department's latest estimate concludes that San Francisco has more drug addicts than it has students enrolled in its public high schools. It estimates the injection-drug-addicted population at 24,500 - approximately 8,500 more people than the nearly 16,000 students enrolled in San Francisco Unified School District's 15 high schools.", 
            "cell_type": "markdown", 
            "metadata": {}
        }, 
        {
            "source": "Crime is another factor for residents and visitors in San Francisco. While many sources of data may differ on the precise rate for various crimes in the city, they normally agree that the city ranks higher than the state and country-wide averages for numerous categories of crime. In particular, crimes involving drugs, property crimes such as vandalism and theft, and violent crimes such as assault and robbery, all occur at rates moderately and significantly higher than many other locations both within the state and within the country.", 
            "cell_type": "markdown", 
            "metadata": {}
        }, 
        {
            "source": "Finally, the issues we have discussed are taking a significant toll on the state budget as expenditures to address the housing and drug crises reach into the millions of dollars per year. For example, in an effort to reduce infections disease transmission among injection drug users, the city of San Francisco handed out a record 5.8 million free syringes in 2018. This was an increase by approximately 500,000 over the amount given out in 2017. In addition to the cost of purchasing the needles, and extra $1.8 million was spent last year on efforts to retrieve used needles. Furthermore, these conditions impact the local economy as tourism takes a hit and businesses re-think holding conventions and other events in the City by the Bay.", 
            "cell_type": "markdown", 
            "metadata": {}
        }, 
        {
            "source": "<b>Description of the Data</b>", 
            "cell_type": "markdown", 
            "metadata": {}
        }, 
        {
            "source": "Analysis will be performed with two datasets. Police Department incident reports will be reviewed for the year 2018. This data set is made available by DataSF, and includes police incident reports filed by officers and by individuals through self-service online reporting for non-emergency cases. Reports included are those for incidents that occurred starting January 1, 2018 until January 31, 2018 and have been approved by a supervising officer.\u00a0Finally, Foursquare location data will be utilized to examine ground-level resources and available real estate in the different San Francisco regions. Foursquare is a technology company that uses location intelligence to build meaningful consumer experiences and business solutions.", 
            "cell_type": "markdown", 
            "metadata": {}
        }
    ], 
    "metadata": {
        "kernelspec": {
            "display_name": "Python 3.5", 
            "name": "python3", 
            "language": "python"
        }, 
        "language_info": {
            "mimetype": "text/x-python", 
            "nbconvert_exporter": "python", 
            "version": "3.5.5", 
            "name": "python", 
            "file_extension": ".py", 
            "pygments_lexer": "ipython3", 
            "codemirror_mode": {
                "version": 3, 
                "name": "ipython"
            }
        }
    }, 
    "nbformat": 4
}